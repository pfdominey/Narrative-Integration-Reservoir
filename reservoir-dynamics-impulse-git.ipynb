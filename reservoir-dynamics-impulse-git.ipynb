{
 "cells": [
  {
   "cell_type": "code",
   "execution_count": 1,
   "metadata": {},
   "outputs": [],
   "source": [
    "import matplotlib.pyplot as plt\n",
    "import matplotlib.gridspec as gridspec\n",
    "import pylab\n",
    "\n",
    "import seaborn as sns\n",
    "\n",
    "import csv\n",
    "\n",
    "import scipy\n",
    "from scipy import stats\n",
    "\n",
    "res_seed = 10"
   ]
  },
  {
   "cell_type": "code",
   "execution_count": 2,
   "metadata": {
    "scrolled": true
   },
   "outputs": [
    {
     "name": "stderr",
     "output_type": "stream",
     "text": [
      "Using Numpy backend.\n",
      "[nltk_data] Downloading package stopwords to\n",
      "[nltk_data]     C:\\Users\\PeterDell\\AppData\\Roaming\\nltk_data...\n",
      "[nltk_data]   Package stopwords is already up-to-date!\n"
     ]
    }
   ],
   "source": [
    "#import cupy as cp\n",
    "from easyesn.optimizers import GradientOptimizer\n",
    "from easyesn import PredictionESN\n",
    "from easyesn.optimizers import GridSearchOptimizer\n",
    "from easyesn import helper as hlp\n",
    "import numpy as np\n",
    "from wikipedia2vec import Wikipedia2Vec\n",
    "\n",
    "import nltk\n",
    "nltk.download('stopwords')\n",
    "from nltk.corpus import stopwords\n",
    "\n",
    "\n",
    "vectorDim = 100\n",
    "\n",
    "numNode = 1000\n",
    "\n"
   ]
  },
  {
   "cell_type": "code",
   "execution_count": 3,
   "metadata": {},
   "outputs": [],
   "source": [
    "def cos_sim(v1, v2):\n",
    "    return np.dot(v1, v2) / (np.linalg.norm(v1) * np.linalg.norm(v2))\n"
   ]
  },
  {
   "cell_type": "code",
   "execution_count": 4,
   "metadata": {},
   "outputs": [
    {
     "name": "stdout",
     "output_type": "stream",
     "text": [
      "10000\n",
      "10000\n"
     ]
    }
   ],
   "source": [
    "#reservoirStatesBuffer[:,:resn]\n",
    "\n",
    "in_small = np.load('in_small.npy')\n",
    "out_small = np.load('in_small.npy')\n",
    "\n",
    "print(len(in_small))\n",
    "print(len(out_small))\n",
    "\n"
   ]
  },
  {
   "cell_type": "code",
   "execution_count": 5,
   "metadata": {},
   "outputs": [],
   "source": [
    "wiki2vec = Wikipedia2Vec.load('enwiki_20180420_100d.pkl')\n",
    "\n"
   ]
  },
  {
   "cell_type": "code",
   "execution_count": 6,
   "metadata": {},
   "outputs": [
    {
     "name": "stdout",
     "output_type": "stream",
     "text": [
      "(0, 100)\n",
      "five 0 thousand 1 feet 2 albany 3 perfect 4 day 5 beautiful 6 blue 7 sky 8 cloud 9 sky 10 see 11 horizon 12 every 13 direction 14 uh 15 girl 16 pushed 17 airplane 18 screams 19 wait 20 wait 21 chute 22 gone 23 plane 24 think 25 sentence 26 ends 27 know 28 functioning 29 properly 30 great 31 jump 32 think 33 ends 34 worse 35 know 36 lot 37 skydiving 38 would 39 think 40 know 41 working 42 chute 43 lends 44 better 45 better 46 jump 47 especially 48 towards 49 end 50 happened 51 forties 52 suddenly 53 surprisingly 54 want 55 one 56 kind 57 uh 58 midlife 59 crisis 60 guys 61 runs 62 gets 63 convertible 64 besides 65 needs 66 two 67 convertibles 68 know 69 already 70 gotten 71 divorced 72 already 73 checked 74 uh 75 needed 76 something 77 went 78 like 79 cliche 80 n 81 ber 82 three 83 drive 84 upstate 85 skydiving 86 academy 87 uh 88 near 89 albany 90 meeting 91 meeting 92 annette 93 school 94 bare 95 bellied 96 khaki 97 shorted 98 know 99 tan 100 shouldered 101 senior 102 instructor 103 nineteen 104 years 105 old 106 like 107 petite 108 could 109 folded 110 put 111 pocket 112 looked 113 like 114 lowercase 115 smiley 116 face 117 dot 118 head 119 made 120 feel 121 like 122 capital 123 standing 124 next 125 professional 126 first 127 thing 128 shake 129 hand 130 put 131 arm 132 mine 133 squeezed 134 little 135 bit 136 said 137 going 138 awesome 139 led 140 office 141 looked 142 like 143 kind 144 delivered 145 back 146 flatbed 147 truck 148 like 149 dropped 150 corner 151 unloaded 152 go 153 inside 154 office 155 first 156 thing 157 says 158 pretty 159 eyes 160 hands 161 liability 162 waiver 163 extremely 164 darwinian 165 moment 166 uh 167 done 168 know 169 drive 170 away 171 something 172 well 173 adapted 174 like 175 know 176 driving 177 signed 178 uh 179 told 180 pretty 181 eyes 182 wanted 183 know 184 pair 185 pretty 186 eyes 187 uh 188 know 189 right 190 stuff 191 sign 192 uh 193 takes 194 back 195 outside 196 pilot 197 know 198 homeroom 199 teacher 200 playing 201 hacky 202 sack 203 runway 204 uh 205 says 206 going 207 start 208 landing 209 important 210 part 211 pokes 212 ribs 213 says 214 know 215 fall 216 gets 217 sudden 218 stop 219 giggles 220 joke 221 funniest 222 joke 223 ever 224 heard 225 kicks 226 blue 227 plastic 228 milk 229 crate 230 foot 231 tall 232 tells 233 hop 234 tells 235 uh 236 jump 237 jump 238 feet 239 raise 240 two 241 little 242 kind 243 dust 244 clouds 245 like 246 neil 247 armstrong 248 gives 249 th 250 bs 251 like 252 got 253 right 254 stuff 255 says 256 going 257 going 258 teach 259 drop 260 roll 261 maneuver 262 land 263 basically 264 sounds 265 like 266 drop 267 roll 268 thing 269 would 270 fire 271 demonstrates 272 uh 273 like 274 know 275 romanian 276 gymnast 277 says 278 know 279 okay 280 try 281 uh 282 helps 283 back 284 onto 285 box 286 says 287 hop 288 bus 289 gus 290 think 291 nice 292 something 293 common 294 know 295 parents 296 grandparents 297 fans 298 uh 299 paul 300 simon 301 get 302 box 303 hold 304 onto 305 shoulder 306 steady 307 wanted 308 hold 309 onto 310 shoulder 311 say 312 rock 313 drop 314 like 315 stone 316 giggles 317 adorably 318 helps 319 picking 320 gravel 321 palms 322 hands 323 says 324 pretty 325 much 326 would 327 true 328 teaching 329 jump 330 milk 331 crate 332 could 333 gotten 334 diploma 335 gone 336 home 337 next 338 two 339 hours 340 uh 341 kind 342 gradually 343 raised 344 diving 345 platform 346 know 347 practice 348 platform 349 milk 350 crate 351 kitchen 352 chair 353 al 354 uh 355 kitchen 356 dinette 357 uh 358 table 359 painter 360 ladder 361 five 362 thousand 363 feet 364 sea 365 level 366 plane 367 uh 368 shows 369 canvas 370 strap 371 called 372 static 373 line 374 attached 375 plane 376 attached 377 chute 378 open 379 chute 380 automatically 381 jump 382 worry 383 anything 384 tugs 385 couple 386 times 387 demonstrate 388 withstand 389 full 390 upper 391 body 392 strength 393 teenage 394 girl 395 puts 396 one 397 hand 398 either 399 cheeks 400 leans 401 close 402 stares 403 know 404 fog 405 orange 406 goggles 407 wearing 408 says 409 listen 410 say 411 go 412 go 413 think 414 says 415 getting 416 cold 417 feet 418 know 419 need 420 little 421 help 422 embarrassed 423 everybody 424 know 425 gets 426 like 427 give 428 little 429 shove 430 says 431 worry 432 gentle 433 altitude 434 like 435 pillow 436 talk 437 basically 438 lovesick 439 know 440 trance 441 anything 442 shoot 443 think 444 makes 445 look 446 brave 447 uh 448 hop 449 onto 450 wing 451 look 452 like 453 pointy 454 steeples 455 pine 456 trees 457 get 458 little 459 cold 460 feet 461 second 462 thoughts 463 yells 464 go 465 uh 466 say 467 uh 468 uh 469 hear 470 actually 471 says 472 geronimo 473 gives 474 shove 475 gone 476 look 477 see 478 terrified 479 eyes 480 hear 481 say 482 wait 483 wait 484 chute 485 really 486 like 487 pathetic 488 inadequacy 489 two 490 hour 491 skydiving 492 lesson 493 hits 494 home 495 right 496 mean 497 took 498 longer 499 learn 500 knit 501 heading 502 powerlines 503 uh 504 like 505 reflex 506 know 507 reflexively 508 kind 509 squeezing 510 legs 511 uh 512 together 513 die 514 know 515 sliced 516 middle 517 like 518 couple 519 flounder 520 fillets 521 like 522 praying 523 life 524 flash 525 eyes 526 ruin 527 last 528 couple 529 minutes 530 suddenly 531 feel 532 jolt 533 yanked 534 around 535 big 536 white 537 fluffy 538 beautiful 539 canopy 540 opens 541 floating 542 earth 543 dead 544 silence 545 really 546 quiet 547 really 548 hear 549 heart 550 pounding 551 get 552 drag 553 gear 554 know 555 helmet 556 straps 557 chute 558 know 559 onion 560 field 561 back 562 office 563 annette 564 already 565 waiting 566 holding 567 plastic 568 cup 569 complimentary 570 sparkling 571 wine 572 talked 573 brochure 574 beaming 575 walk 576 say 577 fuck 578 know 579 that 580 giggles 581 says 582 know 583 seemed 584 like 585 cool 586 guy 587 wanted 588 really 589 awesome 590 jump 591 little 592 parachute 593 malfunction 594 thing 595 spike 596 adrenaline 597 last 598 minute 599 said 600 like 601 staring 602 trying 603 think 604 language 605 chick 606 might 607 know 608 understand 609 know 610 idea 611 dangerous 612 terrifying 613 illegal 614 probably 615 was 616 says 617 wait 618 wait 619 hey 620 right 621 late 622 meant 623 age 624 trying 625 think 626 know 627 going 628 knife 629 strangle 630 beat 631 death 632 heart 633 starts 634 kind 635 slowing 636 sort 637 starts 638 sinking 639 know 640 like 641 fell 642 mile 643 sky 644 purpose 645 without 646 chute 647 far 648 concerned 649 dropped 650 rolled 651 survived 652 think 653 little 654 joke 655 told 656 earlier 657 fall 658 gets 659 sudden 660 stop 661 think 662 know 663 maybe 664 right 665 going 666 stop 667 kills 668 lock 669 eyes 670 glare 671 hope 672 cute 673 angry 674 sign 675 another 676 lesson 677 drive 678 home 679 top 680 thank 681 (682, 100)\n"
     ]
    }
   ],
   "source": [
    "# here we read the text, run the reservoir - will do this twice for intact and scrambled\n",
    "\n",
    "#read in the narrative\n",
    "\n",
    "huge_list = []\n",
    "\n",
    "#with open(\"my_file_Gatsby_Kane_wolfe_bond.txt\", \"r\") as f:\n",
    "#    huge_list = f.read().split()::::\"iss_gatsby_long.txt\"\n",
    "with open(\"not-the-fall.txt\", \"r\", encoding=\"utf8\") as f:\n",
    "    huge_list = f.read().split()\n",
    "\n",
    "\n",
    "#print(huge_list)   \n",
    "\n",
    "discourse_words = huge_list\n",
    "\n",
    "# clean it up\n",
    "# large capital -> small capital\n",
    "\n",
    "discourse_words = [s.replace(s, s.lower()) for s in discourse_words]\n",
    "\n",
    "    # remove '.' and ',' from word list\n",
    "discourse_words = [s.replace('.', '') for s in discourse_words]\n",
    "discourse_words = [s.replace(',', '') for s in discourse_words]\n",
    "\n",
    "    # remove stop words from word list\n",
    "stop_words = stopwords.words('english')\n",
    "    #print(stop_words)\n",
    "for stop_word in stop_words:\n",
    "    while stop_word in discourse_words :\n",
    "        discourse_words.remove(stop_word)\n",
    "            \n",
    "            \n",
    "    # remove \"'s\" and \"'\" and \"-\" and \"'d\" and \"'ll\" and \"'ve\" and \"re\" from word list\n",
    "discourse_words = [s.replace(\"'s\", '') for s in discourse_words]\n",
    "discourse_words = [s.replace(\"'\", '') for s in discourse_words]\n",
    "discourse_words = [s.replace(\"-\", ' ') for s in discourse_words]\n",
    "discourse_words = [s.replace(\"'d\", '') for s in discourse_words]\n",
    "discourse_words = [s.replace(\"'ll\", '') for s in discourse_words]\n",
    "discourse_words = [s.replace(\"'ve\", '') for s in discourse_words]\n",
    "discourse_words = [s.replace(\"'re\", '') for s in discourse_words]\n",
    "discourse_words = [s.replace(\"'m\", '') for s in discourse_words]\n",
    "discourse_words = [s.replace(\"(\", '') for s in discourse_words]\n",
    "discourse_words = [s.replace(\")\", '') for s in discourse_words]\n",
    "discourse_words = [s.replace(\"[\", '') for s in discourse_words]\n",
    "discourse_words = [s.replace(\"]\", '') for s in discourse_words]\n",
    "discourse_words = [s.replace(\",\", '') for s in discourse_words]\n",
    "discourse_words = [s.replace(\";\", '') for s in discourse_words]\n",
    "discourse_words = [s.replace(\"-\", '') for s in discourse_words]\n",
    "discourse_words = [s.replace(\":\", '') for s in discourse_words]\n",
    "discourse_words = [s.replace(\"?\", '') for s in discourse_words]\n",
    "discourse_words = [s.replace(\"!\", '') for s in discourse_words]\n",
    "\n",
    "\n",
    "\n",
    "#print(discourse_words)\n",
    "\n",
    "inputDataTesting = np.empty((0,vectorDim))\n",
    "print(inputDataTesting.shape)\n",
    "\n",
    "for num in range(len(discourse_words)):\n",
    "    inputDataTesting = np.append(inputDataTesting, np.array([wiki2vec.get_word_vector(discourse_words[num])]), axis=0)\n",
    "    print(discourse_words[num], num, end = ' ')\n",
    "print(inputDataTesting.shape)\n",
    "\n",
    "# set the seed\n",
    "np.random.seed(res_seed)\n",
    "\n"
   ]
  },
  {
   "cell_type": "code",
   "execution_count": 7,
   "metadata": {},
   "outputs": [
    {
     "name": "stderr",
     "output_type": "stream",
     "text": [
      "100% (9861 of 9861) |####################| Elapsed Time: 0:00:05 Time:  0:00:05\n"
     ]
    },
    {
     "name": "stdout",
     "output_type": "stream",
     "text": [
      "(1500, 1101)\n",
      "(1500, 1000)\n",
      "(1500, 100)\n",
      "1000\n"
     ]
    }
   ],
   "source": [
    "# here we create an input vector that is mainly zeros, and has a few values, to \"ping\" the reservoir\n",
    "#start with just one\n",
    "\n",
    "inputImpulseTesting = np.zeros((1500,vectorDim))\n",
    "\n",
    "for i in range(400):\n",
    "    #inputImpulseTesting[i] = inputDataTesting[110]\n",
    "    inputImpulseTesting[i+500] = inputDataTesting[200]\n",
    "\n",
    "\n",
    "# set the seed\n",
    "np.random.seed(res_seed)\n",
    "\n",
    "# set up the reservoir\n",
    "# leakingRate=0.2 changing too fast, mutliple with 0.05; changed\n",
    "esn = PredictionESN(n_input=vectorDim, n_output=vectorDim, n_reservoir=numNode, leakingRate=0.15, regressionParameters=[1e-2], solver=\"lsqr\", feedback=False)\n",
    "\n",
    "# train the reervoir with a new seed\n",
    "esn.fit(in_small, out_small, transientTime=\"Auto\", verbose=1)\n",
    "\n",
    "#run the reservoir\n",
    "reservoirStatesBuffer = np.empty((0,numNode))\n",
    "prediction,reservoirStatesBuffer  = esn.predict(inputImpulseTesting)\n",
    "reservoirStatesBuffer = reservoirStatesBuffer.T\n",
    "print(reservoirStatesBuffer.shape)\n",
    "reservoirStatesBuffer = reservoirStatesBuffer[:,101:]\n",
    "print(reservoirStatesBuffer.shape)\n",
    "print(prediction.shape)\n",
    "\n",
    "# set the similarity matrix\n",
    "sim_matrix1 = np.empty([len(reservoirStatesBuffer),len(reservoirStatesBuffer)])\n",
    "       \n",
    "print(len(reservoirStatesBuffer[1]))\n",
    "\n",
    "\n",
    "\n"
   ]
  },
  {
   "cell_type": "code",
   "execution_count": 8,
   "metadata": {},
   "outputs": [
    {
     "data": {
      "image/png": "[encoded data removed]",
      "text/plain": [
       "<Figure size 1152x720 with 1 Axes>"
      ]
     },
     "metadata": {
      "needs_background": "light"
     },
     "output_type": "display_data"
    }
   ],
   "source": [
    "\n",
    "scale = 0.999\n",
    "\n",
    "fig= plt.figure(figsize=(16,10))\n",
    "\n",
    "plt.subplot(122)\n",
    "#plt.imshow(np.corrcoef(sim_matrix1[280:680,280:680]))\n",
    "plt.imshow(np.corrcoef(reservoirStatesBuffer), vmin=scale, vmax=1)\n",
    "\n",
    "\n",
    "\n",
    "\n",
    "\n",
    "\n",
    "\n",
    "plt.savefig('reservoir-ping.png', dpi=600)"
   ]
  },
  {
   "cell_type": "code",
   "execution_count": 9,
   "metadata": {},
   "outputs": [
    {
     "data": {
      "image/png": "[encoded data removed]",
      "text/plain": [
       "<Figure size 1152x288 with 1 Axes>"
      ]
     },
     "metadata": {
      "needs_background": "light"
     },
     "output_type": "display_data"
    }
   ],
   "source": [
    "resn = 100\n",
    "begin=0\n",
    "end=1500\n",
    "fig= plt.figure(figsize=(16,4))\n",
    "\n",
    "plt.plot( reservoirStatesBuffer[begin:end,4:5] )\n",
    "plt.title('Reservoir Temporal Structure Intact vs Shifted')\n",
    "#plt.axvline(x=299, color='b', linestyle='--')\n",
    "#plt.axvline(x=300, color='b', linestyle='--')\n",
    "plt.axvline(x=500, color='b', linestyle='--')\n",
    "plt.axvline(x=900, color='b', linestyle='--')\n",
    "\n",
    "\n",
    "fig.tight_layout()\n",
    "\n",
    "#plt.savefig('reservoirstates--not-the-fall-differences1.png')"
   ]
  },
  {
   "cell_type": "code",
   "execution_count": 10,
   "metadata": {},
   "outputs": [
    {
     "data": {
      "image/png": "[encoded data removed]",
      "text/plain": [
       "<Figure size 864x288 with 1 Axes>"
      ]
     },
     "metadata": {
      "needs_background": "light"
     },
     "output_type": "display_data"
    }
   ],
   "source": [
    "resn = 10\n",
    "\n",
    "fig= plt.figure(figsize=(12,4))\n",
    "\n",
    "plt.plot( reservoirStatesBuffer[:,:resn] )\n",
    "plt.title('Reservoir response to fixed input and zero')\n",
    "#plt.axvline(x=299, color='b', linestyle='--')\n",
    "#plt.axvline(x=300, color='b', linestyle='--')\n",
    "plt.axvline(x=500, color='b', linestyle='--')\n",
    "plt.axvline(x=900, color='b', linestyle='--')\n",
    "\n",
    "\n",
    "fig.tight_layout()\n",
    "\n",
    "plt.savefig('reservoirstates-IMPULSE-1.png')"
   ]
  },
  {
   "cell_type": "code",
   "execution_count": 11,
   "metadata": {},
   "outputs": [
    {
     "name": "stdout",
     "output_type": "stream",
     "text": [
      "(200, 1000)\n",
      "(1000, 200)\n",
      "1000\n",
      "200\n"
     ]
    }
   ],
   "source": [
    "# prepare data for calculating time contant based on ping\n",
    "resn = numNode\n",
    "index = 0\n",
    "begin=500\n",
    "end=700\n",
    "data = reservoirStatesBuffer[begin:end,index:index+resn]\n",
    "print(data.shape)\n",
    "dataT=data.T\n",
    "print(dataT.shape)\n",
    "print(dataT.shape[0])\n",
    "print(dataT.shape[1])"
   ]
  },
  {
   "cell_type": "code",
   "execution_count": 12,
   "metadata": {},
   "outputs": [
    {
     "name": "stdout",
     "output_type": "stream",
     "text": [
      "(1000, 200)\n"
     ]
    }
   ],
   "source": [
    "#since the neurons do not all  stablize at zero, need to shift related to their final stable value\n",
    "shiftedData = dataT\n",
    "print(dataT.shape)\n",
    "for neuron in range(dataT.shape[0]):\n",
    "        for timestep in range(dataT.shape[1]):\n",
    "            shiftedData[neuron,timestep] = dataT[neuron,timestep] - dataT[neuron,dataT.shape[1]-1]\n",
    "            \n"
   ]
  },
  {
   "cell_type": "code",
   "execution_count": 13,
   "metadata": {},
   "outputs": [
    {
     "name": "stdout",
     "output_type": "stream",
     "text": [
      "[  9.   6.   6.   7.   3.   2.  23.   5.   4.   5.   5.   5.   5.  20.\n",
      "  18.   5.   3.  16.   3.   5.  11.  23.  20.   5.   4.   5.   3.   3.\n",
      "   7.  27.   5.   2.  12.   4.   8.  17.   6.  10.   5.   3.  23.  13.\n",
      "   3.   5.   6.   1.   3.   9.  10.   5.  11.   5.   4.   5.   4.   5.\n",
      "   5.  15.  37.   6.   4.   9.   7.   8.   5.   4.  16.   9.   3.   6.\n",
      "   5.   2.   2.   3.  10.   9.  13.   5.   3.  25.  37.   5.   6.  10.\n",
      "   4.   3.  24.  40.   5.  30.   5.   9.  12.   8.   7.  33.   2.   5.\n",
      "   1.  25.   5.   6.   5.  29.   5.  42.   8.   4.  19.   8.   5.  33.\n",
      "   2.   5.  17.   1.   3.   5.   4.   5.   6.   5.   5.   4.  42.  14.\n",
      "   6.   5.  14.   6.   6.   9.   3.   7.  12.   5.   4.   4.   5.   5.\n",
      "  31.   6.   5.   4.  17.   4.   5.   2.   3.  10.   1.  13.   5.   6.\n",
      "   5.  12.   5.  29.   1.  15.   8.  10.  20.   5.  51.   4.   5.  13.\n",
      "   5.   5.   2.  10.   4.  11.  13.   5.  18.  17.   5.   4.  10.   5.\n",
      "   1.   5.   8.  15.  23.   5.   5.   6.   4.   3.   6.   2.  12.   6.\n",
      "  63.  12.  21.  11.   5.   5.  19.   5.  13.  18.   4.   5.   7.   6.\n",
      "   2.   5.   5.  16.   8.  13.   2.   2.   2.   4.  28.   7.   4.   7.\n",
      "   3.   6.   1.  10.   5.   1.   6.   3.   5.   6.   5.   2.  16.   5.\n",
      "   5.  25.   1.   1.   6.   3.   5.   5.  11.   4.   3.   2.   2.  11.\n",
      "   1.  27.   6.   8.   4.  19.  29.   5.   5.  22.   1.   6.   5.  38.\n",
      "   5.  43.   2.   8.  20.   6.   2.  15.   6.  28.   8.   2.   5.   5.\n",
      "   4.  12.  33.  12.   4.   5.   7.  11.   8.   6.   3.   5.  18.   3.\n",
      "   5.   2.   5.   4.   5.   5.   6.  33.  67.  10.   6.   6.   6.   5.\n",
      "  29.   5.   9.   9.   4.   7.  29.   1.  19.   7.   3.  17.   7.   6.\n",
      "   8.   4.   6.   5.   5.   8.  10.   5.   5.   6.  76.   7.  12.  19.\n",
      "   6.  32.  10.   6.  11.   6.  11.  34.   2.   4.  11.   6.  17.  17.\n",
      "  18.   5.   5.  11.   5.   5.   3.   3.  16.   2.  10.   1.  11.   7.\n",
      "   5.   2.   3.   4.   5.   4.   9.   4.   7.  12.  55. 112.   3.   5.\n",
      "   3.  12.   8.   3.   6.   5.   4.   4.  25.   4.   6.   5.   2.   4.\n",
      "  21.  18.   3.  21.   4.   8.  13.   6.   6.   6.   4.  11.   6.  13.\n",
      "   4.   4.   5.   9.   3.   7.   5.   7.  10.   6.   6.  60.   8.   3.\n",
      "   4.   4.  46.   6.  11.   5.  12.  13.   6.  11.   5.   4.  29.   7.\n",
      "   5.   3.   8.   8.  16.   5.  25.   2.   2.  19.   6.   7.   5.   6.\n",
      "   3.   5.  13.   5.   2.  33.  31.   6.   5.  22.   5.   2.  13.  42.\n",
      "   6.  31.   4.   8.   6.   9.   8.   5.  22.   4.  11.  10.   5.   6.\n",
      "   8.  13.   5.   5.   6.   4.  21.   5.   5.   7.   3.   5.   5.   9.\n",
      "   6.   5.   3.   5.   7.   5.   8.   5.   5.   8.   6.   6.   4.   3.\n",
      "   5.   4.   2.   6.   1.   7.   5.   5.   5.  31.  16.   5.   5.   6.\n",
      "   2.  36.   6.  12.   4.   6.   3.  29.   2.  20.   2.  12.   8.   5.\n",
      "   5.   7.  10.  19.   7.   4.   9.   7.  24.   5.  27.   8.   5.   8.\n",
      "   8.   5.  34.  31.   5.  30.  44.   5.   5.  28.  16.  11.  17.  15.\n",
      "   5.   5.   5.   3.  32.   9.   9.   4.  12.   3.   2.   2.  19.   6.\n",
      "  45.   5.  16.   9.   4.  53.  32.   8.   8.   6.   5.  16.   3.   3.\n",
      "   6.   3.   3.   5.  11.   4.   5.   5.   3.  11.   5.   6.   7.  20.\n",
      "  15.   8.   4.   5.   3.   5.  13.   4.   9.   2.   2.   3.   9.  18.\n",
      "   5.  14.   2.   2.   5.   6.  34.   5.   5.  43.  25.   4.   4.   8.\n",
      "  12.   4.   3.  17.  21.   3.   4.   5.   5.   3.   4.   2.  25.   5.\n",
      "   2.   9.   6.   5.   6.  13.  11.   4.   3.   4.   2.   4.  14.  17.\n",
      "   8.   5.   5.   4.   3.  23.   4.  11.  21.  13.  22.   8.   3.  22.\n",
      "   6.   3.   1.  21.   6.  20.   7.   5.   7.   5. 164.   6.   2.   5.\n",
      "  10.   5.   7.   3.   5.  31.   6.   4.   5.  22.   6.  39.  25.   4.\n",
      "   7.  40.   6.   4.  21.   1.   4.  11.   3.   5.   6.  27.   6.   8.\n",
      "   2.  12.   5.   4.   5.   4.   5.  12.   9.   6.   2.   7.  11.  12.\n",
      "  10.   5.  11.   4.  23.  29.  21.  12.  24.   4.   5.   5.   8.  16.\n",
      "   6.   3.  13.   6.   6.   2.  22.   6.   7.   8.  37.   3.   8.  19.\n",
      "   4.   7.   5.  10.  12.   6.  82.   4.  20.   4.   6.  14.   8.   5.\n",
      "   5.   1.   4.  21.   5.   1.  13.  11.   5.   7.  11.   8.  17.   4.\n",
      "   7.  16.   5.  15.   4.   5.   1.   6.   8.   4.   6.   2.  21.   4.\n",
      "   7.   8.   4.   4.  71.  46.   3.  23.   3.   5.  15.   3.   2.   7.\n",
      "   3.   6.   3.   5.   3.   1.  17.   5.   3.   5.   5.  13.   4.  24.\n",
      "   5.   5.  28.   3.   7.   6.  12.   7.   7.  19.   1.   6.   5.  15.\n",
      "   5.   8.   7.   7.  11.   3.  19.   5.   6.   8.   1.   3.   2.  20.\n",
      "  11.   5.   5.   7.  23.   8.  20.  16.   2.   5.   5.   3.   2.  13.\n",
      "   6.   9.   5.   4.  19.   5.  15.   5.   4.   6.   3.   6.   5.   2.\n",
      "   5.  23.   5.  12.   3.  17.  11.  15.  14.  16.  13.  13.   4.   5.\n",
      "   7.   6.  23.   7.  17.  18.   1.  12.  26.   4.  27.   5.   1.   7.\n",
      "   5.   5.   8.   5.   5.   6.   4.   5.  22.   2.   5.   5.   7.   5.\n",
      "   5.   6.   5.   9.  17.  19.   4.   3.  15.   6.   5.   6.   3.   6.\n",
      "  13.   9.   5.  11.  10.   3.   5.   9.  57.   5.   2.   8.  12.   4.\n",
      "   5.  22.   7.  30.   3.   1.   8.   1.   9.   1.   6.  19.  18.   9.\n",
      "  41.  13.   5.   9.   7.   2.   3.   5.   7.   5.   2.   7.   3.   6.\n",
      "  22.   2.  19.   4.  16.   5.   8.  38.   3.   7.  23.   5.  14.   5.\n",
      "   5.   9.   6.   8.  16.   5.]\n",
      "1000\n",
      "[7.02081127e-01 1.15689390e+00 6.28710455e-01 5.87984001e-01\n",
      " 6.61431116e-02 1.47674479e-01 2.11493224e-01 9.43054954e-01\n",
      " 5.51785309e-01 4.67207856e-01 1.25364263e+00 9.08096510e-01\n",
      " 1.16782355e+00 3.85169299e-01 2.75555627e-01 8.18066500e-01\n",
      " 1.10588150e-01 2.17187709e-01 4.21925635e-01 8.17283009e-01\n",
      " 5.47428247e-01 3.47962209e-01 7.18613130e-01 9.61410574e-01\n",
      " 9.77072374e-01 5.63069543e-01 1.86324480e-01 2.81196418e-01\n",
      " 3.69807357e-01 2.22884339e-01 6.16663455e-01 7.99861810e-03\n",
      " 4.35017241e-01 4.89963457e-01 2.86860310e-01 9.75737722e-02\n",
      " 6.59827508e-01 4.75498226e-01 7.92507668e-01 2.54148464e-01\n",
      " 3.13631798e-01 4.01724042e-01 7.29982192e-01 6.21836042e-01\n",
      " 2.67940473e-01 1.04421976e-01 1.72105556e-01 9.48082348e-01\n",
      " 1.00888062e+00 1.69013617e-01 4.53667042e-02 2.19895131e-01\n",
      " 5.40903397e-01 4.24127171e-01 2.47295392e-01 1.02554755e+00\n",
      " 4.47078509e-01 4.67591985e-01 1.30213175e-01 1.27829350e-01\n",
      " 5.03259072e-01 6.46402592e-01 6.21772569e-01 7.16616487e-01\n",
      " 8.57529216e-01 6.50467127e-02 4.91974941e-01 2.40618842e-01\n",
      " 8.88422190e-02 5.12136342e-01 4.91022403e-01 5.20674752e-02\n",
      " 2.36038300e-01 5.00616496e-01 8.82648133e-01 1.35093192e+00\n",
      " 3.34423508e-02 5.02391647e-01 1.28851972e-01 3.11947213e-01\n",
      " 1.36591536e-01 4.38570226e-01 6.80498374e-01 1.77856600e-01\n",
      " 8.01282181e-02 9.13816920e-02 5.05599294e-01 1.91134567e-01\n",
      " 4.97709464e-01 1.93002545e-01 9.41843606e-01 8.19537472e-01\n",
      " 1.88799369e-01 4.79994372e-01 6.30963690e-01 1.05553831e-01\n",
      " 3.31195492e-01 9.40088023e-01 9.90529717e-02 7.17258018e-02\n",
      " 7.85922761e-01 1.13891415e+00 6.16447774e-01 2.11794488e-01\n",
      " 6.60827213e-01 4.30171228e-02 3.91576299e-01 4.04608765e-01\n",
      " 3.11767981e-01 1.05377041e+00 4.85264074e-01 1.59793506e-02\n",
      " 1.58039903e-01 5.60599053e-01 3.19884271e-01 1.24439571e-01\n",
      " 5.86007924e-02 5.00923995e-01 3.43427020e-01 3.74297873e-01\n",
      " 4.58757431e-01 5.84378728e-01 2.55969352e-01 5.75723425e-01\n",
      " 2.17346973e-03 8.01395755e-01 5.51268409e-01 8.33412861e-01\n",
      " 5.27778101e-01 1.30105645e-01 9.11671067e-01 8.45725452e-01\n",
      " 2.11862839e-01 1.37827652e+00 2.64651072e-01 1.04370916e+00\n",
      " 6.22061539e-01 5.15296698e-01 3.62910854e-01 7.11387678e-01\n",
      " 4.05784526e-01 3.17285402e-01 7.70033610e-01 4.39260061e-01\n",
      " 6.38180941e-01 4.28815552e-01 1.24534075e-01 1.54711727e-01\n",
      " 5.37184360e-01 7.51883695e-01 9.93914782e-02 9.57333202e-01\n",
      " 2.30307092e-01 2.09260769e-01 4.11976533e-01 9.71284793e-01\n",
      " 8.54869906e-01 5.50426649e-02 2.04949858e-02 5.21377079e-01\n",
      " 1.05488064e+00 1.04041775e-01 1.02203286e-01 7.77362998e-01\n",
      " 4.64306124e-02 1.90583759e-01 8.09228854e-01 1.02667582e+00\n",
      " 7.22119969e-01 3.85152405e-01 3.03855037e-02 3.40425122e-01\n",
      " 4.31715471e-01 3.90215435e-01 6.46501968e-01 1.35753073e+00\n",
      " 4.94034163e-01 5.24851220e-02 4.97149349e-01 4.44695702e-01\n",
      " 3.44035516e-01 5.73796699e-01 6.15895587e-02 7.16574340e-01\n",
      " 5.55558525e-01 3.18152312e-02 3.08067821e-01 1.82162377e-01\n",
      " 7.79810670e-01 8.68118625e-01 2.95197507e-01 3.05930146e-01\n",
      " 9.27308820e-01 1.64592353e-01 4.05445110e-01 6.92262010e-01\n",
      " 2.67705616e-03 1.60949322e-01 1.31192323e-01 8.69289161e-01\n",
      " 6.79234957e-01 9.37812789e-01 7.36853877e-01 1.01650446e+00\n",
      " 2.77155607e-01 5.47792016e-01 1.02509669e+00 3.99831722e-01\n",
      " 1.15538674e+00 2.27335501e-01 1.19278249e-01 3.23792308e-01\n",
      " 7.25966035e-01 3.80706222e-01 2.73796998e-01 7.83927887e-01\n",
      " 1.26314984e-01 3.28882295e-01 2.22280369e-01 3.48834911e-01\n",
      " 1.52318899e-01 1.34626905e+00 5.36501494e-01 2.94019310e-01\n",
      " 3.79341490e-01 9.57422143e-01 6.05292563e-02 7.49031759e-01\n",
      " 3.71145377e-01 9.11673530e-02 7.53054828e-01 1.89702816e-01\n",
      " 1.16226868e+00 1.20715615e+00 1.39103728e-01 2.48500677e-01\n",
      " 1.39988760e-01 1.80695069e-01 8.27255417e-01 3.09777318e-01\n",
      " 9.52067962e-02 1.89739250e-02 9.21757901e-01 1.32669946e-01\n",
      " 1.29376801e+00 5.75935365e-01 6.68276252e-01 4.10208110e-01\n",
      " 2.17520491e-01 2.67828260e-01 4.13354626e-01 1.62820761e-02\n",
      " 8.06177764e-02 1.53655861e-01 3.83942943e-01 1.18164213e+00\n",
      " 4.29565890e-01 3.90693839e-01 3.49901390e-01 8.89939554e-01\n",
      " 1.12299616e+00 9.53471906e-02 1.73457533e-02 7.53042283e-01\n",
      " 2.32449911e-01 8.73952431e-02 1.25326199e+00 1.49589761e-02\n",
      " 8.80759255e-02 2.08424822e-01 5.68098295e-01 8.72669118e-02\n",
      " 1.53651457e-01 1.09151631e-01 6.51950237e-01 3.03567189e-01\n",
      " 6.58027380e-01 1.01563701e-01 3.40277862e-01 9.74570197e-01\n",
      " 4.03709837e-01 5.20103702e-01 1.88968102e-02 9.28066955e-01\n",
      " 2.66661648e-01 1.20765639e+00 1.19103868e+00 5.06321747e-01\n",
      " 5.22204975e-01 8.74981634e-01 2.68495817e-02 2.43966336e-01\n",
      " 7.05371558e-01 4.63276605e-01 8.15489354e-01 3.79927828e-01\n",
      " 1.11244051e+00 2.44063265e-01 8.14197874e-01 1.31998179e+00\n",
      " 1.03787713e+00 1.25375373e-01 2.05707909e-02 4.11794621e-01\n",
      " 7.95505617e-01 9.10683953e-01 1.66813220e-01 7.40233155e-02\n",
      " 2.10315168e-01 7.06737521e-01 4.32980612e-01 1.14857111e+00\n",
      " 2.37717767e-01 5.69287082e-01 1.43942248e-02 3.77486764e-02\n",
      " 3.97279441e-01 8.11725519e-01 1.06761987e-01 6.78817237e-01\n",
      " 7.33981504e-01 5.21654559e-01 1.33727309e-01 4.64223210e-01\n",
      " 8.93128482e-01 1.04896016e+00 5.71300305e-01 5.20114682e-01\n",
      " 5.67494931e-01 5.25207031e-01 1.08161419e+00 1.28143121e+00\n",
      " 1.18396855e-02 8.75713721e-01 4.05494802e-01 4.11448227e-02\n",
      " 4.12913415e-01 5.21126884e-01 1.10393370e+00 4.78089829e-01\n",
      " 5.83544500e-01 5.45884726e-01 3.84642941e-01 2.10813808e-01\n",
      " 5.83081746e-02 7.68329001e-01 4.20554901e-01 8.50492220e-01\n",
      " 5.88235597e-01 7.15308365e-02 1.02421347e-01 1.21360712e+00\n",
      " 4.14794299e-01 4.55729855e-01 7.12222963e-01 1.08446999e+00\n",
      " 3.02270532e-01 1.54144651e-01 9.15006799e-01 1.69095053e-01\n",
      " 2.97022592e-01 6.91885692e-02 1.15270800e+00 1.41021532e+00\n",
      " 3.53735952e-01 1.20233452e-01 5.59679457e-01 4.18820773e-01\n",
      " 2.63805009e-01 5.14182367e-01 1.80803247e-01 2.39450959e-01\n",
      " 5.65435759e-01 1.04830855e+00 1.56296611e-02 6.91547321e-04\n",
      " 1.94055965e-01 6.63333209e-01 4.95344682e-01 1.09183025e+00\n",
      " 4.58387835e-01 1.96809201e-01 5.26449429e-01 6.11113814e-01\n",
      " 3.76315267e-01 7.47269129e-01 9.85555862e-02 2.74022226e-01\n",
      " 5.66676889e-01 6.74575010e-01 4.84434700e-02 1.92428832e-01\n",
      " 2.35348563e-01 3.59989380e-01 2.22859555e-01 7.24562676e-01\n",
      " 5.50540434e-01 5.43544392e-01 1.12607437e+00 4.73407751e-01\n",
      " 8.08279729e-01 3.49795092e-01 3.87196877e-01 7.75484437e-01\n",
      " 1.20907705e+00 1.21021645e+00 4.22954107e-01 7.29175605e-01\n",
      " 1.03181407e+00 9.95989991e-01 2.68964232e-01 1.16047934e+00\n",
      " 5.51550774e-01 9.75474408e-01 2.10983880e-01 1.57445376e+00\n",
      " 4.67884989e-01 3.78681556e-02 1.19629174e+00 1.65191761e-01\n",
      " 1.02594516e+00 4.19577154e-01 5.03876881e-02 5.07326970e-01\n",
      " 3.37724539e-01 5.53588865e-01 8.79204169e-01 5.15145835e-01\n",
      " 6.64645060e-01 2.88502903e-01 1.08042929e+00 7.62290578e-01\n",
      " 4.15989146e-02 4.78823523e-01 3.38472793e-01 3.84504240e-01\n",
      " 7.79093443e-01 8.58961109e-01 2.53224690e-01 6.96963359e-01\n",
      " 6.15020421e-01 1.51604488e-01 2.79173118e-01 3.55206172e-01\n",
      " 1.19062785e+00 8.05248544e-01 6.54095595e-01 3.74114221e-01\n",
      " 1.86398664e-01 9.91931847e-01 4.35507010e-01 3.86613880e-01\n",
      " 1.64363402e-01 1.00542047e-01 3.27693020e-01 7.76045624e-01\n",
      " 4.13379778e-01 2.79718110e-01 9.31702396e-01 1.82240438e-01\n",
      " 4.70753911e-01 4.87865345e-02 5.12992380e-01 5.65732376e-02\n",
      " 8.37200622e-01 1.15985615e+00 4.68637995e-01 1.97169601e-01\n",
      " 8.11614087e-01 6.73484752e-01 3.04221268e-01 6.30261747e-01\n",
      " 5.34203546e-01 5.35471682e-01 3.49949408e-01 9.16757136e-01\n",
      " 6.25073093e-01 8.29162809e-01 7.64481194e-01 7.21195838e-01\n",
      " 4.31249138e-01 1.18382029e+00 7.61721019e-01 3.41676578e-01\n",
      " 7.96442464e-01 3.70525368e-01 2.75386576e-01 2.99472474e-01\n",
      " 1.62312507e-01 3.80059234e-01 6.19200119e-01 1.33491796e+00\n",
      " 2.38560199e-01 1.03007315e+00 2.09609548e-01 1.12338518e+00\n",
      " 1.18756599e+00 3.12725675e-01 3.11107238e-01 5.13527248e-01\n",
      " 1.00211227e+00 1.08845586e+00 1.03380119e-01 9.50137408e-02\n",
      " 5.56577133e-01 7.90771700e-01 6.94926928e-02 5.40871405e-01\n",
      " 2.08537131e-02 1.21803060e+00 8.93548818e-01 9.04593714e-01\n",
      " 5.57107229e-01 1.34844733e-01 3.24631359e-01 4.68877931e-01\n",
      " 1.01457586e+00 3.02379718e-01 3.95603367e-01 2.94969609e-02\n",
      " 4.22799735e-01 5.58723683e-01 6.44941748e-01 3.30947679e-01\n",
      " 2.47942485e-01 1.83086503e-02 3.24440321e-01 1.93036747e-01\n",
      " 2.52128283e-01 2.65892463e-01 6.67376655e-01 1.91418483e-01\n",
      " 4.97792869e-01 2.49982438e-01 3.21133269e-01 1.82391036e-01\n",
      " 6.44276079e-01 2.73957760e-01 1.19594981e+00 4.50830073e-01\n",
      " 1.65673512e-01 3.73260790e-01 9.95199988e-03 6.77949383e-01\n",
      " 3.97150743e-01 3.97730011e-01 5.16401401e-01 9.02528537e-01\n",
      " 2.84196978e-01 2.56596351e-01 4.52891534e-01 1.86660474e-01\n",
      " 1.03216974e-01 1.28092172e+00 1.07067470e+00 1.90302774e-01\n",
      " 9.21441730e-01 1.10568495e+00 6.12456252e-01 2.40668113e-01\n",
      " 2.09487408e-01 7.70713734e-01 9.02005235e-01 1.82095745e-01\n",
      " 2.01629924e-01 1.32560402e+00 7.63360229e-01 4.43221389e-01\n",
      " 1.74461765e-01 1.67184030e-01 1.00709264e-01 6.70501691e-02\n",
      " 6.92086053e-01 1.64086128e-01 1.32280025e-01 4.70992872e-01\n",
      " 6.36993272e-02 8.13424834e-01 2.75826941e-01 4.33401384e-03\n",
      " 1.76611152e-01 4.71270389e-02 1.21442784e+00 2.36912706e-01\n",
      " 1.11560475e-01 1.40999578e-01 4.81791285e-01 5.85459147e-01\n",
      " 6.95364915e-01 1.10478471e-01 1.82747147e-01 7.36394110e-01\n",
      " 9.18634613e-02 2.20915447e-01 5.55847947e-01 1.01097868e+00\n",
      " 4.40263790e-01 4.29541369e-01 7.50372240e-01 6.25608398e-01\n",
      " 2.73586251e-01 9.17704913e-01 7.23712640e-01 1.10376480e+00\n",
      " 1.82935365e-01 4.83137590e-01 4.05613836e-01 4.96488183e-01\n",
      " 7.01631256e-02 7.33140876e-01 9.81768423e-01 2.37594430e-01\n",
      " 1.13372303e-01 1.51380163e-01 6.15581067e-01 4.92226056e-02\n",
      " 9.97276921e-01 5.95380215e-01 5.21050554e-02 3.17665252e-01\n",
      " 7.84843555e-01 1.79389917e-01 8.19488584e-02 1.11644927e+00\n",
      " 8.72910005e-01 1.39893006e-03 1.35049061e-02 1.05747505e-01\n",
      " 1.02265164e+00 9.48481321e-01 8.79948784e-01 5.21165975e-01\n",
      " 4.69622340e-01 2.90355449e-01 3.11292853e-01 3.76164794e-01\n",
      " 3.70346694e-01 1.16549999e+00 4.35534534e-01 2.66668461e-01\n",
      " 6.07750207e-01 3.34957235e-01 2.53166783e-01 6.95124142e-01\n",
      " 1.26559451e-02 9.48272728e-01 7.22101281e-01 4.05889613e-01\n",
      " 8.31998179e-01 1.27135814e+00 5.45249109e-01 1.24889177e-01\n",
      " 5.18444894e-01 2.00896067e-02 1.93834178e-01 7.37321370e-02\n",
      " 3.39900885e-01 8.26095779e-01 6.40057249e-01 1.17413818e-01\n",
      " 3.51263790e-01 3.20988108e-01 8.50905626e-02 2.70714445e-01\n",
      " 5.58041706e-01 2.22696549e-01 5.62559620e-01 6.36522516e-01\n",
      " 3.52726889e-01 4.48182926e-01 3.94278868e-01 3.10175011e-01\n",
      " 1.09958748e+00 5.43115519e-01 4.87404803e-02 7.69882132e-02\n",
      " 6.86843140e-01 3.76390698e-01 7.33958182e-01 1.97845080e-01\n",
      " 7.04396034e-01 2.67132862e-01 2.06510924e-04 1.38374516e+00\n",
      " 4.54528038e-01 3.12559337e-01 3.96478776e-01 6.68178440e-01\n",
      " 7.12568161e-01 5.38395953e-01 9.69944997e-01 1.46681069e-01\n",
      " 1.34121077e+00 7.45519957e-01 4.02493530e-01 8.52006688e-02\n",
      " 1.12990493e+00 4.27842269e-02 5.03972498e-01 5.59015658e-01\n",
      " 5.54458160e-01 3.53661179e-01 1.12785947e+00 6.14984765e-01\n",
      " 1.38916776e-01 2.60305234e-02 5.81401951e-01 6.53963146e-01\n",
      " 4.91582148e-01 3.29107941e-01 4.31723698e-01 9.69547880e-02\n",
      " 8.47557527e-01 1.00379247e+00 2.99092572e-01 9.44745962e-01\n",
      " 7.97663397e-01 3.62746606e-01 7.45436640e-01 3.48583431e-01\n",
      " 9.66564469e-01 8.18501258e-01 5.31699803e-01 4.87688036e-01\n",
      " 2.96785730e-01 6.68692813e-01 8.89973775e-01 2.45024012e-01\n",
      " 1.47807387e+00 6.95323390e-01 7.68932114e-01 1.97364793e-01\n",
      " 2.90978967e-01 1.98730942e-01 3.10636439e-01 9.46698855e-01\n",
      " 2.29493762e-01 5.02250420e-01 5.04253765e-01 2.99471773e-01\n",
      " 2.65529885e-01 2.98992598e-01 1.18035077e+00 3.23536565e-01\n",
      " 1.00698278e+00 5.22584311e-01 4.29598564e-01 3.35792414e-01\n",
      " 1.16141021e-01 1.72866788e-01 4.00056437e-01 2.73612677e-01\n",
      " 1.60364380e-01 6.56362842e-02 6.22649766e-01 3.37379700e-02\n",
      " 5.28228825e-01 5.79961791e-01 5.13951690e-01 4.93038206e-01\n",
      " 1.71614814e-01 8.29257928e-01 2.99884183e-03 1.26218929e-01\n",
      " 6.45579450e-01 6.87548923e-01 5.88138825e-01 1.67773386e-01\n",
      " 8.79243874e-01 7.67089340e-01 1.85830924e-01 1.16086254e-01\n",
      " 7.41611869e-01 7.61893450e-03 6.67394094e-01 1.00027888e-01\n",
      " 6.65066503e-01 7.62546581e-01 5.17870716e-01 1.40170153e-01\n",
      " 7.17010334e-01 3.16023596e-01 3.97632122e-01 5.23096729e-01\n",
      " 1.13762687e+00 6.77170193e-01 1.28989429e-01 5.19799206e-01\n",
      " 9.92780909e-01 5.61323395e-01 4.26911264e-02 6.30760946e-01\n",
      " 1.06268014e+00 2.75887895e-01 4.93208858e-01 2.01328561e-01\n",
      " 3.11052414e-01 2.78877015e-01 8.19198843e-01 9.33331384e-01\n",
      " 2.79830106e-01 1.64789860e-01 8.32080222e-03 5.34513647e-02\n",
      " 1.38603086e-01 2.08807985e-01 4.51907066e-01 5.96386245e-01\n",
      " 1.55045077e-01 2.32119479e-01 3.93233856e-01 1.49146642e-01\n",
      " 2.75210150e-01 3.25954136e-01 2.10118324e-01 5.62031271e-01\n",
      " 2.14097151e-01 1.56083722e-01 4.73978221e-02 5.46349056e-01\n",
      " 2.28018645e-01 9.68485860e-01 7.74662725e-01 4.21435117e-01\n",
      " 6.08329247e-01 3.37691200e-01 5.59553899e-01 4.86541794e-01\n",
      " 1.34607717e-01 1.71804303e-01 8.22423804e-01 1.16145903e+00\n",
      " 6.88398546e-01 5.86490044e-01 9.55115358e-01 5.16650588e-01\n",
      " 1.13719954e-01 4.06884310e-01 1.49110916e-01 5.04070930e-01\n",
      " 8.71791239e-01 1.58456758e+00 7.18716363e-01 4.76359355e-01\n",
      " 2.87164737e-01 2.14340948e-01 3.21692140e-01 4.04460338e-01\n",
      " 2.02210260e-01 5.10124741e-01 1.12649369e-01 4.15630864e-01\n",
      " 3.12253286e-01 1.33655016e-01 5.32929648e-01 1.34055607e+00\n",
      " 8.60545592e-01 5.81376609e-01 3.05723385e-01 8.65859383e-01\n",
      " 2.27875628e-01 3.84517821e-01 8.10116421e-02 7.84378786e-01\n",
      " 7.14823932e-01 3.44168088e-01 1.56142507e-01 3.54513171e-01\n",
      " 5.11592939e-01 1.01874204e+00 4.28224884e-01 5.94704193e-01\n",
      " 7.37022882e-01 6.13534039e-01 1.22090806e-01 9.17876550e-01\n",
      " 5.26562100e-01 6.58812526e-01 5.51291663e-01 9.34444516e-01\n",
      " 8.07245934e-01 5.61204831e-01 5.55600055e-01 5.15798650e-01\n",
      " 1.63571183e-01 1.23047320e+00 2.07377728e-01 7.73737735e-01\n",
      " 5.95815215e-01 5.13238789e-01 7.39960881e-01 3.13735064e-01\n",
      " 2.75455916e-01 1.35097230e-01 8.22125902e-01 4.74673182e-01\n",
      " 1.01367136e+00 1.88294711e-02 4.15597189e-02 2.46375449e-01\n",
      " 2.52839031e-01 2.59553887e-01 4.06174269e-02 2.88877306e-01\n",
      " 3.20520160e-01 2.92691944e-01 2.75399269e-01 8.58371192e-01\n",
      " 5.66584325e-02 7.77212180e-01 3.13614321e-01 2.76695393e-01\n",
      " 4.72010617e-01 5.26612670e-01 4.39917244e-01 3.57396162e-01\n",
      " 4.74849426e-01 1.10604168e+00 2.94366443e-01 8.21332079e-02\n",
      " 1.77759657e-01 2.68495533e-01 1.24729179e+00 3.91953411e-01\n",
      " 1.59457958e-01 1.06892334e+00 1.29061671e+00 2.68071487e-01\n",
      " 8.82775968e-01 4.60604168e-01 8.22490047e-01 1.60148657e-01\n",
      " 4.33841044e-01 1.39364856e+00 8.16130881e-01 4.01931059e-01\n",
      " 6.07944351e-02 1.19183604e+00 2.53188568e-01 1.82641786e-01\n",
      " 4.33604025e-01 6.73887151e-01 1.06675683e+00 2.40413275e-01\n",
      " 9.47182164e-01 1.04635128e-01 3.27077758e-02 6.80032415e-01\n",
      " 1.78909466e-01 7.33601001e-01 4.50992525e-01 4.05673737e-01\n",
      " 1.01132236e+00 4.90753043e-01 9.94162029e-01 3.96877540e-02\n",
      " 3.43715112e-01 6.11718688e-02 1.15629753e+00 1.26655402e-01\n",
      " 9.23165616e-01 1.64861103e-01 8.73143672e-01 5.23235832e-01\n",
      " 1.47936322e-01 6.22930562e-02 1.35774808e-01 4.87861126e-01\n",
      " 8.93907812e-01 1.63287698e-01 8.87105658e-01 1.42850001e-01\n",
      " 6.28405980e-02 3.59008926e-01 3.04246858e-01 2.96027565e-01\n",
      " 1.72301022e-01 1.05046723e+00 1.28305943e-01 4.29257554e-01\n",
      " 3.67192262e-01 8.84203085e-02 4.09033404e-01 4.80173017e-01\n",
      " 4.67679152e-01 4.12620427e-01 1.16873400e+00 2.71259484e-02\n",
      " 3.35457293e-01 2.20974702e-01 2.69271051e-01 4.57059026e-01\n",
      " 8.23801437e-01 3.69817942e-01 1.03934818e+00 1.03357596e-01\n",
      " 1.13115675e+00 5.63702205e-01 2.48351433e-01 2.71958844e-01]\n"
     ]
    }
   ],
   "source": [
    "timeconstants = np.zeros(shiftedData.shape[0])\n",
    "res_maxes = np.zeros(shiftedData.shape[0])\n",
    "\n",
    "#calculate the alignment time:  shiftedData(neurons,time)\n",
    "#interate over reservoir neuron\n",
    "for neuron in range(shiftedData.shape[0]):\n",
    "    # get the value\n",
    "    max = abs(shiftedData[neuron,0])\n",
    "    if max > -1:  #WAS 0.05\n",
    "        for timestep in range(shiftedData.shape[1]):\n",
    "            if (abs(shiftedData[neuron,timestep]) < max/2):\n",
    "                timeconstants[neuron] = timestep\n",
    "                res_maxes[neuron] = max\n",
    "                max=-1     \n",
    "                \n",
    "print(timeconstants)\n",
    "print(len(timeconstants))\n",
    "print(res_maxes)"
   ]
  },
  {
   "cell_type": "code",
   "execution_count": 14,
   "metadata": {},
   "outputs": [],
   "source": [
    "save_timeconstants = timeconstants\n",
    "timeconstants = np.sort(save_timeconstants)"
   ]
  },
  {
   "cell_type": "code",
   "execution_count": 15,
   "metadata": {},
   "outputs": [
    {
     "data": {
      "image/png": "[encoded data removed]",
      "text/plain": [
       "<Figure size 1080x288 with 2 Axes>"
      ]
     },
     "metadata": {
      "needs_background": "light"
     },
     "output_type": "display_data"
    }
   ],
   "source": [
    "fig= plt.figure(figsize=(15,4))\n",
    "#488\n",
    "begin = 0  #166\n",
    "end = 800    #468\n",
    "gs = gridspec.GridSpec(1, 2,width_ratios=[3,1])\n",
    "plt.subplot(gs[0])\n",
    "plt.plot(timeconstants[begin:end])\n",
    "#plt.axhline(y=13, color='b', linestyle='--')\n",
    "\n",
    "plt.title('Temporal profiles of context construction alignment times', fontsize=16)\n",
    "\n",
    "\n",
    "ax = fig.add_subplot(gs[1])\n",
    "bp = ax.boxplot(timeconstants[begin:end], showmeans=True)\n",
    "#plt.hist(timeconstants[begin:end], bins = 10)\n",
    "\n",
    "plt.title('Alignment times', fontsize=16)\n",
    "#plt.axhline(y=13, color='b', linestyle='--')\n",
    "\n",
    "plt.savefig('not-the-fall-impulse-900-1100.png', dpi=600)"
   ]
  },
  {
   "cell_type": "code",
   "execution_count": 17,
   "metadata": {},
   "outputs": [
    {
     "name": "stdout",
     "output_type": "stream",
     "text": [
      "(1500, 1000)\n",
      "1500\n",
      "1000\n",
      "1000\n"
     ]
    }
   ],
   "source": [
    "reservoirStatesBuffer1 = reservoirStatesBuffer\n",
    "print(reservoirStatesBuffer1.shape)\n",
    "#that is (timesteps, neuron)\n",
    "timesteps = reservoirStatesBuffer1.shape[0]\n",
    "neurons = reservoirStatesBuffer1.shape[1]\n",
    "print(timesteps)\n",
    "print(neurons)\n",
    "print(len(timeconstants))"
   ]
  },
  {
   "cell_type": "code",
   "execution_count": 18,
   "metadata": {},
   "outputs": [],
   "source": [
    "# add a column to store the time constants into the \n",
    "\n",
    "reservoirStates1SortedT = np.zeros((neurons,timesteps+1))\n",
    "reservoirStates1SortedT[:,:-1] = reservoirStatesBuffer1.T"
   ]
  },
  {
   "cell_type": "code",
   "execution_count": 19,
   "metadata": {},
   "outputs": [],
   "source": [
    "reservoirStates1SortedT[:,682]=save_timeconstants"
   ]
  },
  {
   "cell_type": "code",
   "execution_count": 20,
   "metadata": {},
   "outputs": [],
   "source": [
    "SortedStates = reservoirStates1SortedT[np.argsort(reservoirStates1SortedT[:, 682])]"
   ]
  },
  {
   "cell_type": "code",
   "execution_count": 21,
   "metadata": {},
   "outputs": [
    {
     "name": "stdout",
     "output_type": "stream",
     "text": [
      "(1000, 1501)\n",
      "(1501, 1000)\n",
      "(1501, 50)\n"
     ]
    }
   ],
   "source": [
    "# now we can create the pattern correlation matrices for different time-constant plages\n",
    "print(SortedStates.shape)\n",
    "SortedStatesT=SortedStates.T\n",
    "print(SortedStatesT.shape)\n",
    "print(SortedStatesT[:,400:450].shape)"
   ]
  },
  {
   "cell_type": "code",
   "execution_count": 22,
   "metadata": {},
   "outputs": [
    {
     "name": "stdout",
     "output_type": "stream",
     "text": [
      "(1000, 1501)\n",
      "(1501, 1000)\n",
      "(1501, 50)\n"
     ]
    }
   ],
   "source": [
    "# now we can create the pattern correlation matrices for different time-constant plages\n",
    "print(SortedStates.shape)\n",
    "SortedStatesT=SortedStates.T\n",
    "print(SortedStatesT.shape)\n",
    "print(SortedStatesT[:,400:450].shape)"
   ]
  },
  {
   "cell_type": "code",
   "execution_count": 23,
   "metadata": {},
   "outputs": [
    {
     "data": {
      "image/png": "[encoded data removed]",
      "text/plain": [
       "<Figure size 432x288 with 1 Axes>"
      ]
     },
     "metadata": {
      "needs_background": "light"
     },
     "output_type": "display_data"
    }
   ],
   "source": [
    "plt.scatter(save_timeconstants,res_maxes)\n",
    "\n",
    "plt.show()"
   ]
  },
  {
   "cell_type": "code",
   "execution_count": null,
   "metadata": {},
   "outputs": [],
   "source": []
  },
  {
   "cell_type": "code",
   "execution_count": null,
   "metadata": {},
   "outputs": [],
   "source": []
  }
 ],
 "metadata": {
  "kernelspec": {
   "display_name": "Python 3",
   "language": "python",
   "name": "python3"
  },
  "language_info": {
   "codemirror_mode": {
    "name": "ipython",
    "version": 3
   },
   "file_extension": ".py",
   "mimetype": "text/x-python",
   "name": "python",
   "nbconvert_exporter": "python",
   "pygments_lexer": "ipython3",
   "version": "3.7.6"
  }
 },
 "nbformat": 4,
 "nbformat_minor": 1
}
