{
 "cells": [
  {
   "cell_type": "code",
   "execution_count": 1,
   "metadata": {},
   "outputs": [
    {
     "name": "stderr",
     "output_type": "stream",
     "text": [
      "Using Numpy backend.\n"
     ]
    }
   ],
   "source": [
    "%matplotlib inline\n",
    "#import deepdish as dd\n",
    "from matplotlib import pyplot as plt\n",
    "#from mpl_toolkits.mplot3d import Axes3D\n",
    "import matplotlib.patches as patches\n",
    "import numpy as np\n",
    "import brainiak.eventseg.event\n",
    "from scipy import stats\n",
    "from scipy.stats import norm, zscore, pearsonr\n",
    "from scipy.signal import gaussian, convolve\n",
    "from sklearn import decomposition\n",
    "import seaborn as sns \n",
    "\n",
    "from easyesn.optimizers import GradientOptimizer\n",
    "from easyesn import PredictionESN\n",
    "from easyesn.optimizers import GridSearchOptimizer\n",
    "from easyesn import helper as hlp"
   ]
  },
  {
   "cell_type": "code",
   "execution_count": 2,
   "metadata": {},
   "outputs": [
    {
     "name": "stdout",
     "output_type": "stream",
     "text": [
      "(789, 100)\n"
     ]
    }
   ],
   "source": [
    "nostop = True\n",
    "if nostop == True:\n",
    "    embeddings=np.load(\"Exp1-NYT4-IGBA-embeddings.npy\")\n",
    "else:\n",
    "    embeddings=np.load(\"Exp1-NYT4-IGBA-embeddings-stop.npy\")\n",
    "print(embeddings.shape)\n",
    "\n",
    "embeddingsn = np.empty((embeddings.shape[0],embeddings.shape[1]))"
   ]
  },
  {
   "cell_type": "code",
   "execution_count": 3,
   "metadata": {},
   "outputs": [],
   "source": [
    "in_small = np.load('CH2020_50/in_small.npy')\n",
    "out_small = np.load('CH2020_50/out_small.npy')"
   ]
  },
  {
   "cell_type": "code",
   "execution_count": 4,
   "metadata": {},
   "outputs": [],
   "source": [
    "inputDataTesting=embeddings\n",
    "\n",
    "numNode = 1000\n",
    "vectorDim = 100\n",
    "\n",
    "\n",
    "states1 = np.empty((0,numNode))\n",
    "states_cumul = np.zeros((0,numNode))\n",
    "\n"
   ]
  },
  {
   "cell_type": "code",
   "execution_count": null,
   "metadata": {},
   "outputs": [
    {
     "name": "stderr",
     "output_type": "stream",
     "text": [
      "100% (9603 of 9603) |####################| Elapsed Time: 0:00:07 Time:  0:00:07\n"
     ]
    },
    {
     "name": "stdout",
     "output_type": "stream",
     "text": [
      "0 p = 0.3583656066195882\n"
     ]
    },
    {
     "name": "stderr",
     "output_type": "stream",
     "text": [
      "100% (9615 of 9615) |####################| Elapsed Time: 0:00:07 Time:  0:00:07\n"
     ]
    },
    {
     "name": "stdout",
     "output_type": "stream",
     "text": [
      "1 p = 0.8055572940961174\n"
     ]
    },
    {
     "name": "stderr",
     "output_type": "stream",
     "text": [
      "100% (9606 of 9606) |####################| Elapsed Time: 0:00:07 Time:  0:00:07\n"
     ]
    },
    {
     "name": "stdout",
     "output_type": "stream",
     "text": [
      "2 p = 0.40855497757080395\n"
     ]
    },
    {
     "name": "stderr",
     "output_type": "stream",
     "text": [
      "100% (9615 of 9615) |####################| Elapsed Time: 0:00:07 Time:  0:00:07\n"
     ]
    },
    {
     "name": "stdout",
     "output_type": "stream",
     "text": [
      "3 p = 0.36773473029436043\n"
     ]
    },
    {
     "name": "stderr",
     "output_type": "stream",
     "text": [
      "100% (9611 of 9611) |####################| Elapsed Time: 0:00:07 Time:  0:00:07\n"
     ]
    },
    {
     "name": "stdout",
     "output_type": "stream",
     "text": [
      "4 p = 0.43892641418712086\n"
     ]
    },
    {
     "name": "stderr",
     "output_type": "stream",
     "text": [
      "100% (9619 of 9619) |####################| Elapsed Time: 0:00:07 Time:  0:00:07\n"
     ]
    },
    {
     "name": "stdout",
     "output_type": "stream",
     "text": [
      "5 p = 0.8271194138416037\n"
     ]
    },
    {
     "name": "stderr",
     "output_type": "stream",
     "text": [
      "100% (9611 of 9611) |####################| Elapsed Time: 0:00:07 Time:  0:00:07\n"
     ]
    },
    {
     "name": "stdout",
     "output_type": "stream",
     "text": [
      "6 p = 0.07914415397431895\n"
     ]
    },
    {
     "name": "stderr",
     "output_type": "stream",
     "text": [
      "100% (9608 of 9608) |####################| Elapsed Time: 0:00:08 Time:  0:00:08\n"
     ]
    },
    {
     "name": "stdout",
     "output_type": "stream",
     "text": [
      "7 p = 0.44080809092192946\n"
     ]
    },
    {
     "name": "stderr",
     "output_type": "stream",
     "text": [
      "100% (9600 of 9600) |####################| Elapsed Time: 0:00:09 Time:  0:00:09\n"
     ]
    },
    {
     "name": "stdout",
     "output_type": "stream",
     "text": [
      "8 p = 0.2784271260733946\n"
     ]
    },
    {
     "name": "stderr",
     "output_type": "stream",
     "text": [
      "100% (9617 of 9617) |####################| Elapsed Time: 0:00:10 Time:  0:00:10\n"
     ]
    },
    {
     "name": "stdout",
     "output_type": "stream",
     "text": [
      "9 p = 0.05751888070322884\n"
     ]
    },
    {
     "name": "stderr",
     "output_type": "stream",
     "text": [
      "100% (9587 of 9587) |####################| Elapsed Time: 0:00:11 Time:  0:00:11\n"
     ]
    },
    {
     "name": "stdout",
     "output_type": "stream",
     "text": [
      "10 p = 0.8859165819948098\n"
     ]
    },
    {
     "name": "stderr",
     "output_type": "stream",
     "text": [
      "100% (9620 of 9620) |####################| Elapsed Time: 0:00:08 Time:  0:00:08\n"
     ]
    },
    {
     "name": "stdout",
     "output_type": "stream",
     "text": [
      "11 p = 0.3328610584436264\n"
     ]
    },
    {
     "name": "stderr",
     "output_type": "stream",
     "text": [
      "100% (9616 of 9616) |####################| Elapsed Time: 0:00:08 Time:  0:00:08\n"
     ]
    },
    {
     "name": "stdout",
     "output_type": "stream",
     "text": [
      "12 p = 0.4844008676463537\n"
     ]
    },
    {
     "name": "stderr",
     "output_type": "stream",
     "text": [
      "100% (9591 of 9591) |####################| Elapsed Time: 0:00:07 Time:  0:00:07\n"
     ]
    },
    {
     "name": "stdout",
     "output_type": "stream",
     "text": [
      "13 p = 0.4194269649188949\n"
     ]
    },
    {
     "name": "stderr",
     "output_type": "stream",
     "text": [
      "100% (9596 of 9596) |####################| Elapsed Time: 0:00:08 Time:  0:00:08\n"
     ]
    },
    {
     "name": "stdout",
     "output_type": "stream",
     "text": [
      "14 p = 0.44238471020203635\n"
     ]
    },
    {
     "name": "stderr",
     "output_type": "stream",
     "text": [
      "100% (9592 of 9592) |####################| Elapsed Time: 0:00:07 Time:  0:00:07\n"
     ]
    },
    {
     "name": "stdout",
     "output_type": "stream",
     "text": [
      "15 p = 0.40886137566709885\n"
     ]
    },
    {
     "name": "stderr",
     "output_type": "stream",
     "text": [
      "100% (9596 of 9596) |####################| Elapsed Time: 0:00:07 Time:  0:00:07\n"
     ]
    },
    {
     "name": "stdout",
     "output_type": "stream",
     "text": [
      "16 p = 0.06631445540824397\n"
     ]
    },
    {
     "name": "stderr",
     "output_type": "stream",
     "text": [
      "100% (9611 of 9611) |####################| Elapsed Time: 0:00:06 Time:  0:00:06\n"
     ]
    },
    {
     "name": "stdout",
     "output_type": "stream",
     "text": [
      "17 p = 0.38531789666701743\n"
     ]
    },
    {
     "name": "stderr",
     "output_type": "stream",
     "text": [
      "100% (9605 of 9605) |####################| Elapsed Time: 0:00:06 Time:  0:00:06\n"
     ]
    },
    {
     "name": "stdout",
     "output_type": "stream",
     "text": [
      "18 p = 0.8295617362427221\n"
     ]
    },
    {
     "name": "stderr",
     "output_type": "stream",
     "text": [
      "100% (9608 of 9608) |####################| Elapsed Time: 0:00:07 Time:  0:00:07\n"
     ]
    },
    {
     "name": "stdout",
     "output_type": "stream",
     "text": [
      "19 p = 0.08732838740864951\n"
     ]
    },
    {
     "name": "stderr",
     "output_type": "stream",
     "text": [
      "100% (9598 of 9598) |####################| Elapsed Time: 0:00:07 Time:  0:00:07\n"
     ]
    },
    {
     "name": "stdout",
     "output_type": "stream",
     "text": [
      "20 p = 0.3345351914585566\n"
     ]
    },
    {
     "name": "stderr",
     "output_type": "stream",
     "text": [
      "100% (9591 of 9591) |####################| Elapsed Time: 0:00:07 Time:  0:00:07\n"
     ]
    },
    {
     "name": "stdout",
     "output_type": "stream",
     "text": [
      "21 p = 0.10689199091201906\n"
     ]
    },
    {
     "name": "stderr",
     "output_type": "stream",
     "text": [
      "100% (9601 of 9601) |####################| Elapsed Time: 0:00:07 Time:  0:00:07\n"
     ]
    },
    {
     "name": "stdout",
     "output_type": "stream",
     "text": [
      "22 p = 0.08944248996823895\n"
     ]
    },
    {
     "name": "stderr",
     "output_type": "stream",
     "text": [
      "100% (9603 of 9603) |####################| Elapsed Time: 0:00:07 Time:  0:00:07\n"
     ]
    },
    {
     "name": "stdout",
     "output_type": "stream",
     "text": [
      "23 p = 0.42418983884349587\n"
     ]
    },
    {
     "name": "stderr",
     "output_type": "stream",
     "text": [
      "100% (9623 of 9623) |####################| Elapsed Time: 0:00:07 Time:  0:00:07\n"
     ]
    },
    {
     "name": "stdout",
     "output_type": "stream",
     "text": [
      "24 p = 0.4602465982493017\n"
     ]
    },
    {
     "name": "stderr",
     "output_type": "stream",
     "text": [
      "100% (9589 of 9589) |####################| Elapsed Time: 0:00:07 Time:  0:00:07\n"
     ]
    },
    {
     "name": "stdout",
     "output_type": "stream",
     "text": [
      "25 p = 0.31528340919868825\n"
     ]
    },
    {
     "name": "stderr",
     "output_type": "stream",
     "text": [
      "100% (9594 of 9594) |####################| Elapsed Time: 0:00:07 Time:  0:00:07\n"
     ]
    },
    {
     "name": "stdout",
     "output_type": "stream",
     "text": [
      "26 p = 0.43317146415308133\n"
     ]
    },
    {
     "name": "stderr",
     "output_type": "stream",
     "text": [
      "100% (9593 of 9593) |####################| Elapsed Time: 0:00:07 Time:  0:00:07\n"
     ]
    },
    {
     "name": "stdout",
     "output_type": "stream",
     "text": [
      "27 p = 0.44744960425285085\n"
     ]
    },
    {
     "name": "stderr",
     "output_type": "stream",
     "text": [
      "100% (9625 of 9625) |####################| Elapsed Time: 0:00:07 Time:  0:00:07\n"
     ]
    },
    {
     "name": "stdout",
     "output_type": "stream",
     "text": [
      "28 p = 0.4443860709720546\n"
     ]
    },
    {
     "name": "stderr",
     "output_type": "stream",
     "text": [
      "100% (9600 of 9600) |####################| Elapsed Time: 0:00:07 Time:  0:00:07\n"
     ]
    },
    {
     "name": "stdout",
     "output_type": "stream",
     "text": [
      "29 p = 0.438803167760717\n"
     ]
    },
    {
     "name": "stderr",
     "output_type": "stream",
     "text": [
      "100% (9627 of 9627) |####################| Elapsed Time: 0:00:07 Time:  0:00:07\n"
     ]
    },
    {
     "name": "stdout",
     "output_type": "stream",
     "text": [
      "30 p = 0.030367404419270938\n"
     ]
    },
    {
     "name": "stderr",
     "output_type": "stream",
     "text": [
      "100% (9598 of 9598) |####################| Elapsed Time: 0:00:08 Time:  0:00:08\n"
     ]
    },
    {
     "name": "stdout",
     "output_type": "stream",
     "text": [
      "31 p = 0.41037031475397123\n"
     ]
    },
    {
     "name": "stderr",
     "output_type": "stream",
     "text": [
      "\r",
      "N/A% (0 of 9608) |                       | Elapsed Time: 0:00:00 ETA:  --:--:--"
     ]
    }
   ],
   "source": [
    "for res_seed in range(100):\n",
    "# set the seed\n",
    "    \n",
    "\n",
    "    # set up the reservoirs\n",
    "    # \n",
    "    np.random.seed(res_seed)\n",
    "    esn1 = PredictionESN(n_input=vectorDim, n_output=vectorDim, n_reservoir=numNode, leakingRate=0.05, regressionParameters=[1e-2], solver=\"lsqr\", feedback=False)\n",
    "\n",
    "    # train the reervoir with a new seed\n",
    "    esn1.fit(in_small, out_small, transientTime=\"Auto\", verbose=1)\n",
    "\n",
    "\n",
    "    #run the reservoir\n",
    "\n",
    "    states1n = np.empty((0,numNode))\n",
    "\n",
    "    prediction1,states1  = esn1.predict(inputDataTesting)\n",
    "\n",
    "    states1 = states1.T\n",
    "\n",
    "    states1 = states1[:,101:]\n",
    "\n",
    "    states1n = np.empty((states1.shape[0],states1.shape[1]))\n",
    "    \n",
    "    if res_seed == 0:\n",
    "        states_cumul = states1\n",
    "    else:\n",
    "        states_cumul = states_cumul + states1\n",
    "\n",
    "    # do the segmentation\n",
    "    seg_no = 10\n",
    "    evS1 = brainiak.eventseg.event.EventSegment(n_events=seg_no)\n",
    "    evS1.fit(states1)\n",
    "\n",
    "    if nostop == True:\n",
    "        g = [74, 137, 197,  278, 424, 583, 698]\n",
    "    else:\n",
    "        g = [131, 233, 337, 470, 706, 939, 1126]\n",
    "    ground = np.array(g)\n",
    "\n",
    "\n",
    "    boundsS1 = np.where(np.diff(np.argmax(evS1.segments_[0], axis=1)))[0]\n",
    "    nTR=embeddings.shape[0]\n",
    "\n",
    "    bounds = boundsS1\n",
    "    human_bounds = ground\n",
    "    np.random.seed(0)\n",
    "\n",
    "    event_counts = np.diff(np.concatenate(([0],bounds,[nTR])))\n",
    "    nPerm = 1000\n",
    "    perm_bounds = bounds\n",
    "    threshold = 3\n",
    "\n",
    "    match = np.zeros(nPerm+1)\n",
    "    for p in range(nPerm+1):\n",
    "        for hb in human_bounds:\n",
    "            # check if match \n",
    "            if np.any(np.abs(perm_bounds - hb) <= threshold):\n",
    "                match[p] += 1\n",
    "        match[p] /= len(human_bounds)\n",
    "        perm_counts = np.random.permutation(event_counts)\n",
    "        perm_bounds = np.cumsum(perm_counts)[:-1]\n",
    "\n",
    "    print(res_seed,'p = ' + str(norm.sf((match[0]-match[1:].mean())/match[1:].std())))"
   ]
  },
  {
   "cell_type": "code",
   "execution_count": 8,
   "metadata": {},
   "outputs": [
    {
     "name": "stdout",
     "output_type": "stream",
     "text": [
      "4 p = 0.3869683903549704\n"
     ]
    }
   ],
   "source": [
    "seg_no = 10\n",
    "evS1 = brainiak.eventseg.event.EventSegment(n_events=seg_no)\n",
    "evS1.fit(states_cumul)\n",
    "    \n",
    "boundsS1 = np.where(np.diff(np.argmax(evS1.segments_[0], axis=1)))[0]\n",
    "nTR=embeddings.shape[0]\n",
    "\n",
    "bounds = boundsS1\n",
    "human_bounds = ground+1\n",
    "np.random.seed(0)\n",
    "\n",
    "event_counts = np.diff(np.concatenate(([0],bounds,[nTR])))\n",
    "nPerm = 1000\n",
    "perm_bounds = bounds\n",
    "threshold = 3\n",
    "\n",
    "match = np.zeros(nPerm+1)\n",
    "for p in range(nPerm+1):\n",
    "    for hb in human_bounds:\n",
    "        # check if match \n",
    "        if np.any(np.abs(perm_bounds - hb) <= threshold):\n",
    "            match[p] += 1\n",
    "    match[p] /= len(human_bounds)\n",
    "    perm_counts = np.random.permutation(event_counts)\n",
    "    perm_bounds = np.cumsum(perm_counts)[:-1]\n",
    "\n",
    "print(res_seed,'p = ' + str(norm.sf((match[0]-match[1:].mean())/match[1:].std())))"
   ]
  },
  {
   "cell_type": "code",
   "execution_count": null,
   "metadata": {},
   "outputs": [],
   "source": []
  }
 ],
 "metadata": {
  "kernelspec": {
   "display_name": "Python 3",
   "language": "python",
   "name": "python3"
  },
  "language_info": {
   "codemirror_mode": {
    "name": "ipython",
    "version": 3
   },
   "file_extension": ".py",
   "mimetype": "text/x-python",
   "name": "python",
   "nbconvert_exporter": "python",
   "pygments_lexer": "ipython3",
   "version": "3.7.9"
  }
 },
 "nbformat": 4,
 "nbformat_minor": 2
}
